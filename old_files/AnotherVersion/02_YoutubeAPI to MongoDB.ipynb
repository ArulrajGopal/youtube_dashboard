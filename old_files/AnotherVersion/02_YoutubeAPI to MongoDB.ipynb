{
  "cells": [
    {
      "cell_type": "markdown",
      "metadata": {
        "colab_type": "text",
        "id": "view-in-github"
      },
      "source": [
        "<a href=\"https://colab.research.google.com/github/Arulrajgopal/YT-Scrapping-to-SQL-Warehousing/blob/main/YoutubeAPI%20to%20MongoDB.ipynb\" target=\"_parent\"><img src=\"https://colab.research.google.com/assets/colab-badge.svg\" alt=\"Open In Colab\"/></a>"
      ]
    },
    {
      "cell_type": "markdown",
      "metadata": {
        "id": "GzWbtE_PbcF3"
      },
      "source": [
        "# MongoDB Configuration"
      ]
    },
    {
      "cell_type": "code",
      "execution_count": null,
      "metadata": {
        "id": "KQcMeAiObdz1"
      },
      "outputs": [],
      "source": [
        "!pip install pymongo\n",
        "!pip install dnspython"
      ]
    },
    {
      "cell_type": "code",
      "execution_count": null,
      "metadata": {
        "id": "jB5HBaDJbSdn"
      },
      "outputs": [],
      "source": [
        "import pymongo\n",
        "from pymongo import MongoClient"
      ]
    },
    {
      "cell_type": "code",
      "execution_count": null,
      "metadata": {
        "id": "6iatTkgIbSbX"
      },
      "outputs": [],
      "source": [
        "uri = \"mongodb+srv://<user_name>:<password>@cluster0.olep9qs.mongodb.net/?retryWrites=true&w=majority\"\n",
        "\n",
        "# Create a new client and connect to the server\n",
        "client = MongoClient(uri)\n",
        "\n",
        "# Send a ping to confirm a successful connection\n",
        "try:\n",
        "    client.admin.command('ping')\n",
        "    print(\"Pinged your deployment. You successfully connected to MongoDB!\")\n",
        "except Exception as e:\n",
        "    print(e)"
      ]
    },
    {
      "cell_type": "code",
      "execution_count": null,
      "metadata": {
        "id": "NQQUHsykbSZG"
      },
      "outputs": [],
      "source": [
        "#database configuration\n",
        "ytscrapping_db = client.YoutubeScrapping\n",
        "\n",
        "print('database configuration successful!')"
      ]
    },
    {
      "cell_type": "code",
      "execution_count": null,
      "metadata": {
        "id": "0dNwARbEbSWu"
      },
      "outputs": [],
      "source": [
        "#insert test data with collection creation\n",
        "ytscrapping_db.test_collection.insert_one({'test':'test_data'})\n",
        "\n",
        "print('test collection created & data inserted successfully!')"
      ]
    },
    {
      "cell_type": "code",
      "execution_count": null,
      "metadata": {
        "id": "tPjm1LsVbSUl"
      },
      "outputs": [],
      "source": [
        "#database cleaned up\n",
        "ytscrapping_db.test_collection.drop()\n",
        "print('database cleaned up successfully')"
      ]
    },
    {
      "cell_type": "code",
      "execution_count": null,
      "metadata": {
        "id": "hfPT88gsbSR2"
      },
      "outputs": [],
      "source": []
    },
    {
      "cell_type": "markdown",
      "metadata": {
        "id": "BFd5WOzLbuxH"
      },
      "source": [
        "# Youtube Scrapping"
      ]
    },
    {
      "cell_type": "code",
      "execution_count": null,
      "metadata": {
        "colab": {
          "base_uri": "https://localhost:8080/"
        },
        "id": "oxRwyHnSTJ8v",
        "outputId": "fb7143ef-52b9-413f-d4cf-59f0e10d312a"
      },
      "outputs": [
        {
          "name": "stdout",
          "output_type": "stream",
          "text": [
            "Requirement already satisfied: google-api-python-client in /usr/local/lib/python3.10/dist-packages (2.84.0)\n",
            "Requirement already satisfied: httplib2<1dev,>=0.15.0 in /usr/local/lib/python3.10/dist-packages (from google-api-python-client) (0.22.0)\n",
            "Requirement already satisfied: google-auth<3.0.0dev,>=1.19.0 in /usr/local/lib/python3.10/dist-packages (from google-api-python-client) (2.17.3)\n",
            "Requirement already satisfied: google-auth-httplib2>=0.1.0 in /usr/local/lib/python3.10/dist-packages (from google-api-python-client) (0.1.0)\n",
            "Requirement already satisfied: google-api-core!=2.0.*,!=2.1.*,!=2.2.*,!=2.3.0,<3.0.0dev,>=1.31.5 in /usr/local/lib/python3.10/dist-packages (from google-api-python-client) (2.11.1)\n",
            "Requirement already satisfied: uritemplate<5,>=3.0.1 in /usr/local/lib/python3.10/dist-packages (from google-api-python-client) (4.1.1)\n",
            "Requirement already satisfied: googleapis-common-protos<2.0.dev0,>=1.56.2 in /usr/local/lib/python3.10/dist-packages (from google-api-core!=2.0.*,!=2.1.*,!=2.2.*,!=2.3.0,<3.0.0dev,>=1.31.5->google-api-python-client) (1.60.0)\n",
            "Requirement already satisfied: protobuf!=3.20.0,!=3.20.1,!=4.21.0,!=4.21.1,!=4.21.2,!=4.21.3,!=4.21.4,!=4.21.5,<5.0.0.dev0,>=3.19.5 in /usr/local/lib/python3.10/dist-packages (from google-api-core!=2.0.*,!=2.1.*,!=2.2.*,!=2.3.0,<3.0.0dev,>=1.31.5->google-api-python-client) (3.20.3)\n",
            "Requirement already satisfied: requests<3.0.0.dev0,>=2.18.0 in /usr/local/lib/python3.10/dist-packages (from google-api-core!=2.0.*,!=2.1.*,!=2.2.*,!=2.3.0,<3.0.0dev,>=1.31.5->google-api-python-client) (2.31.0)\n",
            "Requirement already satisfied: cachetools<6.0,>=2.0.0 in /usr/local/lib/python3.10/dist-packages (from google-auth<3.0.0dev,>=1.19.0->google-api-python-client) (5.3.1)\n",
            "Requirement already satisfied: pyasn1-modules>=0.2.1 in /usr/local/lib/python3.10/dist-packages (from google-auth<3.0.0dev,>=1.19.0->google-api-python-client) (0.3.0)\n",
            "Requirement already satisfied: six>=1.9.0 in /usr/local/lib/python3.10/dist-packages (from google-auth<3.0.0dev,>=1.19.0->google-api-python-client) (1.16.0)\n",
            "Requirement already satisfied: rsa<5,>=3.1.4 in /usr/local/lib/python3.10/dist-packages (from google-auth<3.0.0dev,>=1.19.0->google-api-python-client) (4.9)\n",
            "Requirement already satisfied: pyparsing!=3.0.0,!=3.0.1,!=3.0.2,!=3.0.3,<4,>=2.4.2 in /usr/local/lib/python3.10/dist-packages (from httplib2<1dev,>=0.15.0->google-api-python-client) (3.1.1)\n",
            "Requirement already satisfied: pyasn1<0.6.0,>=0.4.6 in /usr/local/lib/python3.10/dist-packages (from pyasn1-modules>=0.2.1->google-auth<3.0.0dev,>=1.19.0->google-api-python-client) (0.5.0)\n",
            "Requirement already satisfied: charset-normalizer<4,>=2 in /usr/local/lib/python3.10/dist-packages (from requests<3.0.0.dev0,>=2.18.0->google-api-core!=2.0.*,!=2.1.*,!=2.2.*,!=2.3.0,<3.0.0dev,>=1.31.5->google-api-python-client) (3.2.0)\n",
            "Requirement already satisfied: idna<4,>=2.5 in /usr/local/lib/python3.10/dist-packages (from requests<3.0.0.dev0,>=2.18.0->google-api-core!=2.0.*,!=2.1.*,!=2.2.*,!=2.3.0,<3.0.0dev,>=1.31.5->google-api-python-client) (3.4)\n",
            "Requirement already satisfied: urllib3<3,>=1.21.1 in /usr/local/lib/python3.10/dist-packages (from requests<3.0.0.dev0,>=2.18.0->google-api-core!=2.0.*,!=2.1.*,!=2.2.*,!=2.3.0,<3.0.0dev,>=1.31.5->google-api-python-client) (2.0.4)\n",
            "Requirement already satisfied: certifi>=2017.4.17 in /usr/local/lib/python3.10/dist-packages (from requests<3.0.0.dev0,>=2.18.0->google-api-core!=2.0.*,!=2.1.*,!=2.2.*,!=2.3.0,<3.0.0dev,>=1.31.5->google-api-python-client) (2023.7.22)\n"
          ]
        }
      ],
      "source": [
        "!pip install google-api-python-client\n",
        "\n",
        "from googleapiclient.discovery import build"
      ]
    },
    {
      "cell_type": "code",
      "execution_count": null,
      "metadata": {
        "id": "iJD7ZyDnoqRc"
      },
      "outputs": [],
      "source": [
        "#famous tamil youtube finance channels\n",
        "channel_id_dict= {\"MoneyPechu\" : \"UC7fQFl37yAOaPaoxQm-TqSA\"\n",
        ",\"CauveryBusiness\" : \"UCa1FSXPOxb0x8lZTYCbQJ5g\"\n",
        ",\"Muthaleetukalam\":\"UCahsYnjbRheSL7uv6jWbJ4w\"\n",
        ",\"TradeAchievers\":\"UCzk4zJEoZMnjvpoN0HlKjHQ\"\n",
        ",\"CapitalZone\":\"UCxoM_zP4Cr9LpIEn3TEZhvg\"\n",
        ",\"PRSundar\":\"UCS2NdYUmv_PUyyKeDAo5zYA\"\n",
        ",\"TheMadrasTrader\":\"UCqxH7wzv-sMrCnjP3lM3Nmw\"\n",
        ",\"EQSIS\":\"UCKTWY-rVwUqCxrVmPOlJyjA\"\n",
        ",\"SagaContraTrading\":\"UChaRiZ3h9JlLCeO2pdWkxMw\"\n",
        ",\"TiruppurBullsShares\":\"UCqhL6vNCwYLC9_jePXOIvBg\"\n",
        ",\"WafaStudies\":\"UC_n9wCmDG064tZUKZF2g4Aw\"}"
      ]
    },
    {
      "cell_type": "code",
      "execution_count": null,
      "metadata": {
        "id": "UWgPsB8yie00"
      },
      "outputs": [],
      "source": [
        "api_key = \"\"\n",
        "youtube =  build(\"youtube\",\"v3\",developerKey=api_key)"
      ]
    },
    {
      "cell_type": "code",
      "execution_count": null,
      "metadata": {
        "id": "Hj_FlezXfBp1"
      },
      "outputs": [],
      "source": [
        "def get_channel_details(channel_id_dict):\n",
        "  all_data = []\n",
        "  filtered_data = []\n",
        "  for i,j in channel_id_dict.items():\n",
        "    request =youtube.channels().list(part=\"snippet,contentDetails,statistics\", id=j)\n",
        "    response = request.execute()\n",
        "    all_data.append(response)\n",
        "    data = dict(\n",
        "              Channel_name = response['items'][0]['snippet']['title'],\n",
        "              Subcribers = response['items'][0]['statistics']['subscriberCount'],\n",
        "              views = response['items'][0]['statistics']['viewCount'],\n",
        "              videos = response['items'][0]['statistics']['videoCount'],\n",
        "              upload_plylst_id = response['items'][0]['contentDetails']['relatedPlaylists']['uploads']\n",
        "              )\n",
        "    filtered_data.append(data)\n",
        "\n",
        "  return filtered_data"
      ]
    },
    {
      "cell_type": "code",
      "execution_count": null,
      "metadata": {
        "id": "lCzeGBlSg4Gv"
      },
      "outputs": [],
      "source": [
        "channel_details_list = get_channel_details(channel_id_dict)"
      ]
    },
    {
      "cell_type": "code",
      "execution_count": null,
      "metadata": {
        "colab": {
          "base_uri": "https://localhost:8080/"
        },
        "id": "AgvnrhyAMyUJ",
        "outputId": "5277ece6-9c5b-493a-f166-3c5fd293f08f"
      },
      "outputs": [
        {
          "data": {
            "text/plain": [
              "[{'Channel_name': 'Money Pechu',\n",
              "  'Subcribers': '1090000',\n",
              "  'views': '192202524',\n",
              "  'videos': '2622',\n",
              "  'upload_plylst_id': 'UU7fQFl37yAOaPaoxQm-TqSA'},\n",
              " {'Channel_name': 'Cauvery Business',\n",
              "  'Subcribers': '114000',\n",
              "  'views': '12676847',\n",
              "  'videos': '1038',\n",
              "  'upload_plylst_id': 'UUa1FSXPOxb0x8lZTYCbQJ5g'},\n",
              " {'Channel_name': 'Muthaleetukalam | முதலீட்டுகளம்',\n",
              "  'Subcribers': '66300',\n",
              "  'views': '7735757',\n",
              "  'videos': '1256',\n",
              "  'upload_plylst_id': 'UUahsYnjbRheSL7uv6jWbJ4w'},\n",
              " {'Channel_name': 'Trade Achievers',\n",
              "  'Subcribers': '476000',\n",
              "  'views': '29771765',\n",
              "  'videos': '773',\n",
              "  'upload_plylst_id': 'UUzk4zJEoZMnjvpoN0HlKjHQ'},\n",
              " {'Channel_name': 'CapitalZone',\n",
              "  'Subcribers': '113000',\n",
              "  'views': '6206476',\n",
              "  'videos': '319',\n",
              "  'upload_plylst_id': 'UUxoM_zP4Cr9LpIEn3TEZhvg'},\n",
              " {'Channel_name': 'P R Sundar',\n",
              "  'Subcribers': '1090000',\n",
              "  'views': '178762391',\n",
              "  'videos': '1865',\n",
              "  'upload_plylst_id': 'UUS2NdYUmv_PUyyKeDAo5zYA'},\n",
              " {'Channel_name': 'The Madras Trader',\n",
              "  'Subcribers': '450000',\n",
              "  'views': '32325403',\n",
              "  'videos': '180',\n",
              "  'upload_plylst_id': 'UUqxH7wzv-sMrCnjP3lM3Nmw'},\n",
              " {'Channel_name': 'EQSIS',\n",
              "  'Subcribers': '77200',\n",
              "  'views': '3199720',\n",
              "  'videos': '120',\n",
              "  'upload_plylst_id': 'UUKTWY-rVwUqCxrVmPOlJyjA'},\n",
              " {'Channel_name': 'Saga Contra Trading',\n",
              "  'Subcribers': '16800',\n",
              "  'views': '1378356',\n",
              "  'videos': '445',\n",
              "  'upload_plylst_id': 'UUhaRiZ3h9JlLCeO2pdWkxMw'},\n",
              " {'Channel_name': 'TiruppurBulls Shares',\n",
              "  'Subcribers': '128000',\n",
              "  'views': '30168879',\n",
              "  'videos': '1508',\n",
              "  'upload_plylst_id': 'UUqhL6vNCwYLC9_jePXOIvBg'},\n",
              " {'Channel_name': 'WafaStudies',\n",
              "  'Subcribers': '65700',\n",
              "  'views': '8889987',\n",
              "  'videos': '459',\n",
              "  'upload_plylst_id': 'UU_n9wCmDG064tZUKZF2g4Aw'}]"
            ]
          },
          "execution_count": 23,
          "metadata": {},
          "output_type": "execute_result"
        }
      ],
      "source": [
        "channel_details_list"
      ]
    },
    {
      "cell_type": "code",
      "execution_count": null,
      "metadata": {
        "id": "gNPRZPz_Mge4"
      },
      "outputs": [],
      "source": [
        "playlist_id = \"UUKTWY-rVwUqCxrVmPOlJyjA\"\n",
        "#EQSIS Channel Playlist ID"
      ]
    },
    {
      "cell_type": "code",
      "execution_count": null,
      "metadata": {
        "id": "FW8GBj3z3Gsy"
      },
      "outputs": [],
      "source": [
        "def get_videos_list(playlist_id):\n",
        "  video_id_list = []\n",
        "\n",
        "  request = youtube.playlistItems().list(part='contentDetails',playlistId = playlist_id)\n",
        "  response = request.execute()\n",
        "\n",
        "  for i in range(len(response['items'])):\n",
        "    video_id_list.append(response['items'][i]['contentDetails']['videoId'])\n",
        "\n",
        "  next_page_token = response.get('nextPageToken')\n",
        "  more_pages = True\n",
        "\n",
        "  while more_pages:\n",
        "    if next_page_token is None:\n",
        "      more_pages = False\n",
        "    else:\n",
        "        request = youtube.playlistItems().list(part='contentDetails',playlistId = playlist_id,maxResults = 50, pageToken = next_page_token)\n",
        "        response = request.execute()\n",
        "\n",
        "        for i in range(len(response['items'])):\n",
        "          video_id_list.append(response['items'][i]['contentDetails']['videoId'])\n",
        "\n",
        "        next_page_token = response.get('nextPageToken')\n",
        "\n",
        "  return video_id_list"
      ]
    },
    {
      "cell_type": "code",
      "execution_count": null,
      "metadata": {
        "colab": {
          "base_uri": "https://localhost:8080/"
        },
        "id": "nO9IgXK83Gq9",
        "outputId": "ab7a135f-0a6b-4595-bbc6-7cff8d9644e6"
      },
      "outputs": [
        {
          "data": {
            "text/plain": [
              "121"
            ]
          },
          "execution_count": 26,
          "metadata": {},
          "output_type": "execute_result"
        }
      ],
      "source": [
        "video_id_lst= get_videos_list(playlist_id)\n",
        "len(video_id_lst)"
      ]
    },
    {
      "cell_type": "code",
      "execution_count": null,
      "metadata": {
        "colab": {
          "base_uri": "https://localhost:8080/",
          "height": 36
        },
        "id": "fFNkexjUdiof",
        "outputId": "aa8424a6-06ef-4741-d27c-ccf76c59d76b"
      },
      "outputs": [
        {
          "data": {
            "application/vnd.google.colaboratory.intrinsic+json": {
              "type": "string"
            },
            "text/plain": [
              "'4qPAAbL8TLM'"
            ]
          },
          "execution_count": 27,
          "metadata": {},
          "output_type": "execute_result"
        }
      ],
      "source": [
        "video_id_lst[0]"
      ]
    },
    {
      "cell_type": "code",
      "execution_count": null,
      "metadata": {
        "id": "wMVooxs2R1tG"
      },
      "outputs": [],
      "source": [
        "def get_video_details(video_id_lst):\n",
        "  all_video_stats = []\n",
        "\n",
        "  for i in range(0, len(video_id_lst), 50):\n",
        "    request = youtube.videos().list(part=\"snippet,contentDetails,statistics\",id=','.join(video_id_lst[i:i+50]))\n",
        "    response = request.execute()\n",
        "\n",
        "    for video in response['items']:\n",
        "      try:\n",
        "        video_stats = dict(\n",
        "                        Title = video['snippet']['title'],\n",
        "                        Published_date = video['snippet']['publishedAt'],\n",
        "                        Views = video['statistics']['viewCount'],\n",
        "                        Likes = video['statistics']['likeCount'],\n",
        "                        Comments = video['statistics']['commentCount'],\n",
        "                        Duration = video['contentDetails']['duration'])\n",
        "        all_video_stats.append(video_stats)\n",
        "      except KeyError:\n",
        "        video_stats = dict(\n",
        "                        Title = video['snippet']['title'],\n",
        "                        Published_date = video['snippet']['publishedAt'],\n",
        "                        Views = video['statistics']['viewCount'],\n",
        "                        Likes = video['statistics']['likeCount'],\n",
        "                        Comments = '0',\n",
        "                        Duration = video['contentDetails']['duration'])\n",
        "        all_video_stats.append(video_stats)\n",
        "\n",
        "  return all_video_stats\n",
        "\n",
        "#dislikecount not available in the API"
      ]
    },
    {
      "cell_type": "code",
      "execution_count": null,
      "metadata": {
        "id": "kLGT6IPsmEyY"
      },
      "outputs": [],
      "source": [
        "videos_details = get_video_details(video_id_lst)"
      ]
    },
    {
      "cell_type": "code",
      "execution_count": null,
      "metadata": {
        "colab": {
          "base_uri": "https://localhost:8080/"
        },
        "id": "JGdiVyhN_uiN",
        "outputId": "0226d3fb-8f1c-4b38-9f55-608c24c9022f"
      },
      "outputs": [
        {
          "data": {
            "text/plain": [
              "{'Title': 'How to Set Alerts in Arbitrage Scanner to Find High Premium and High Discount Stocks | EQSIS',\n",
              " 'Published_date': '2023-03-23T15:47:27Z',\n",
              " 'Views': '1451',\n",
              " 'Likes': '43',\n",
              " 'Comments': '4',\n",
              " 'Duration': 'PT12M29S'}"
            ]
          },
          "execution_count": 30,
          "metadata": {},
          "output_type": "execute_result"
        }
      ],
      "source": [
        "videos_details[0]"
      ]
    },
    {
      "cell_type": "code",
      "execution_count": null,
      "metadata": {
        "id": "KwyUgWwakETV"
      },
      "outputs": [],
      "source": [
        "def get_popular_comments(video_id):\n",
        "  popular_comments_lst = []\n",
        "\n",
        "  request = youtube.commentThreads().list(part=\"snippet,replies\", maxResults=100,order=\"relevance\",videoId=video_id)\n",
        "  response = request.execute()\n",
        "\n",
        "  for video in response['items']:\n",
        "      video_stats = dict(\n",
        "                      VideoId = video['snippet']['videoId'],\n",
        "                      Author = video['snippet']['topLevelComment']['snippet']['authorDisplayName'],\n",
        "                      Comment = video['snippet']['topLevelComment']['snippet']['textDisplay'],\n",
        "                      CommentId = video['snippet']['topLevelComment']['id'],\n",
        "                      CommentLike = video['snippet']['topLevelComment']['snippet']['likeCount'],\n",
        "                      Replies = video['snippet']['totalReplyCount'],\n",
        "                      PublishedAt = video['snippet']['topLevelComment']['snippet']['publishedAt'],\n",
        "                      UpdatedAt = video['snippet']['topLevelComment']['snippet']['updatedAt']\n",
        "                      )\n",
        "      popular_comments_lst.append(video_stats)\n",
        "\n",
        "  return popular_comments_lst"
      ]
    },
    {
      "cell_type": "code",
      "execution_count": null,
      "metadata": {
        "colab": {
          "base_uri": "https://localhost:8080/"
        },
        "id": "RKm4j30KkERM",
        "outputId": "9a576619-9752-4c9d-d347-f53f670fdd54"
      },
      "outputs": [
        {
          "data": {
            "text/plain": [
              "{'VideoId': '3lM89xFmwFU',\n",
              " 'Author': 'Nasar',\n",
              " 'Comment': 'Actual video starts at<br><a href=\"https://www.youtube.com/watch?v=3lM89xFmwFU&amp;t=2m14s\">2:14</a>',\n",
              " 'CommentId': 'UgwFUS_N8ZFunYYYOXl4AaABAg',\n",
              " 'CommentLike': 426,\n",
              " 'Replies': 31,\n",
              " 'PublishedAt': '2021-07-11T17:28:58Z',\n",
              " 'UpdatedAt': '2021-07-11T17:28:58Z'}"
            ]
          },
          "execution_count": 32,
          "metadata": {},
          "output_type": "execute_result"
        }
      ],
      "source": [
        "popular_comments_lst = get_popular_comments('3lM89xFmwFU')\n",
        "popular_comments_lst[5]"
      ]
    },
    {
      "cell_type": "code",
      "execution_count": null,
      "metadata": {
        "colab": {
          "base_uri": "https://localhost:8080/"
        },
        "id": "2rHPfFbH2Fdw",
        "outputId": "136c4509-142d-462b-a225-3d699f975d92"
      },
      "outputs": [
        {
          "data": {
            "text/plain": [
              "<pymongo.results.InsertManyResult at 0x7d1b2d515780>"
            ]
          },
          "execution_count": 37,
          "metadata": {},
          "output_type": "execute_result"
        }
      ],
      "source": [
        "ytscrapping_db.channel_details.insert_many(channel_details_list)"
      ]
    },
    {
      "cell_type": "code",
      "execution_count": null,
      "metadata": {
        "id": "rO46STMIPEri"
      },
      "outputs": [],
      "source": [
        "#ytscrapping_db.channel_details.drop()"
      ]
    }
  ],
  "metadata": {
    "colab": {
      "include_colab_link": true,
      "provenance": [],
      "toc_visible": true
    },
    "kernelspec": {
      "display_name": "Python 3",
      "name": "python3"
    },
    "language_info": {
      "name": "python"
    }
  },
  "nbformat": 4,
  "nbformat_minor": 0
}
