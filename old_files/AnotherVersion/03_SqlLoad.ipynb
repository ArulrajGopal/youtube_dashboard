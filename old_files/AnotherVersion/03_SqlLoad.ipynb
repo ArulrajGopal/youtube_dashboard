{
  "cells": [
    {
      "cell_type": "markdown",
      "metadata": {
        "colab_type": "text",
        "id": "view-in-github"
      },
      "source": [
        "<a href=\"https://colab.research.google.com/github/Arulrajgopal/YT-Scrapping-to-SQL-Warehousing/blob/main/03_SqlLoad.ipynb\" target=\"_parent\"><img src=\"https://colab.research.google.com/assets/colab-badge.svg\" alt=\"Open In Colab\"/></a>"
      ]
    },
    {
      "cell_type": "code",
      "execution_count": null,
      "metadata": {
        "id": "01cjB3PUQodU"
      },
      "outputs": [],
      "source": [
        "#removing the existing cloning\n",
        "!rm -r '/content/YT-Scrapping-to-SQL-Warehousing/'\n",
        "\n",
        "\n",
        "#cloning git repo\n",
        "!git clone https://github.com/Arulrajgopal/YT-Scrapping-to-SQL-Warehousing\n",
        "\n",
        "\n",
        "#MongoDB Configuration Setup\n",
        "%run '/content/YT-Scrapping-to-SQL-Warehousing/02_YoutubeAPI to MongoDB.ipynb'\n",
        "\n"
      ]
    },
    {
      "cell_type": "code",
      "execution_count": 2,
      "metadata": {
        "colab": {
          "base_uri": "https://localhost:8080/"
        },
        "id": "V_yB-AC-Ryjq",
        "outputId": "2b702c6e-4ee8-4df2-df0b-62d529b8790b"
      },
      "outputs": [
        {
          "name": "stdout",
          "output_type": "stream",
          "text": [
            "/content\n"
          ]
        }
      ],
      "source": [
        "!pwd"
      ]
    },
    {
      "cell_type": "code",
      "execution_count": 3,
      "metadata": {
        "colab": {
          "base_uri": "https://localhost:8080/"
        },
        "id": "LRIPFMADRz2W",
        "outputId": "f2a3bfb5-2402-4182-88c9-19302edb30fa"
      },
      "outputs": [
        {
          "name": "stdout",
          "output_type": "stream",
          "text": [
            "sample_data  YT-Scrapping-to-SQL-Warehousing\n"
          ]
        }
      ],
      "source": [
        "!ls"
      ]
    },
    {
      "cell_type": "code",
      "execution_count": 5,
      "metadata": {
        "id": "7xJjvKN6HBKJ"
      },
      "outputs": [],
      "source": [
        "import sqlite3\n",
        "import pandas as pd"
      ]
    },
    {
      "cell_type": "code",
      "execution_count": 6,
      "metadata": {
        "id": "KqNorKZFAJ05"
      },
      "outputs": [],
      "source": [
        "cursor = sqlite3.connect('YT-Scrapping-to-SQL-Warehousing/mydb.db').cursor()"
      ]
    },
    {
      "cell_type": "code",
      "execution_count": 7,
      "metadata": {
        "id": "6zNW3fC9HM74"
      },
      "outputs": [],
      "source": [
        "channel_details_df = pd.DataFrame(ytscrapping_db.channel_details.find({},{'_id': False}))"
      ]
    },
    {
      "cell_type": "code",
      "execution_count": 15,
      "metadata": {
        "colab": {
          "base_uri": "https://localhost:8080/"
        },
        "id": "KnREdjXJ_DN8",
        "outputId": "1d7e4fbb-b453-4a18-eb8d-d787daee71c5"
      },
      "outputs": [
        {
          "data": {
            "text/plain": [
              "<sqlite3.Cursor at 0x788b22d63dc0>"
            ]
          },
          "execution_count": 15,
          "metadata": {},
          "output_type": "execute_result"
        }
      ],
      "source": [
        "command1 = \"\"\"create table if not exists testtable\n",
        "(id int,\n",
        "name varchar(30)\n",
        ")\"\"\"\n",
        "\n",
        "cursor.execute(command1)"
      ]
    },
    {
      "cell_type": "code",
      "execution_count": 17,
      "metadata": {
        "colab": {
          "base_uri": "https://localhost:8080/"
        },
        "id": "v9amaD1oSBMq",
        "outputId": "67388b35-5ddc-4030-f251-ee54c245d59a"
      },
      "outputs": [
        {
          "data": {
            "text/plain": [
              "<sqlite3.Cursor at 0x788b22d63dc0>"
            ]
          },
          "execution_count": 17,
          "metadata": {},
          "output_type": "execute_result"
        }
      ],
      "source": [
        "command2 = \"\"\"insert into testtable\n",
        "values\n",
        "(1, 'govindha'),\n",
        "(2, 'vivekandha');\n",
        "\"\"\"\n",
        "\n",
        "cursor.execute(command2)"
      ]
    },
    {
      "cell_type": "code",
      "execution_count": 20,
      "metadata": {
        "id": "JWbDHgC2-6Z6"
      },
      "outputs": [],
      "source": [
        "cursor.close()"
      ]
    },
    {
      "cell_type": "code",
      "execution_count": null,
      "metadata": {
        "id": "avIaIQTVSoUF"
      },
      "outputs": [],
      "source": []
    }
  ],
  "metadata": {
    "colab": {
      "include_colab_link": true,
      "provenance": []
    },
    "kernelspec": {
      "display_name": "Python 3",
      "name": "python3"
    },
    "language_info": {
      "name": "python"
    }
  },
  "nbformat": 4,
  "nbformat_minor": 0
}
